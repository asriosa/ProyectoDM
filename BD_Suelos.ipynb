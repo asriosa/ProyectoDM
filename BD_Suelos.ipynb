{
 "cells": [
  {
   "cell_type": "code",
   "execution_count": 1,
   "id": "a301968b",
   "metadata": {},
   "outputs": [],
   "source": [
    "import pandas as pd\n",
    "import numpy as np"
   ]
  },
  {
   "cell_type": "code",
   "execution_count": 54,
   "id": "dc74e02d",
   "metadata": {},
   "outputs": [],
   "source": [
    "df = pd.read_excel('suelos.xlsx')"
   ]
  },
  {
   "cell_type": "code",
   "execution_count": 81,
   "id": "617573c8",
   "metadata": {},
   "outputs": [
    {
     "data": {
      "text/plain": [
       "CAPITAL       0\n",
       "NOMBDEP       0\n",
       "NOMBPROV      0\n",
       "NOMBDIST      0\n",
       "UBIGEO        0\n",
       "KM2           0\n",
       "SIMSUE        0\n",
       "DESCRIPCIO    0\n",
       "PROPOR        0\n",
       "PAISAJE       0\n",
       "PENDIENTE     0\n",
       "longitud      0\n",
       "latitud       0\n",
       "dtype: int64"
      ]
     },
     "execution_count": 81,
     "metadata": {},
     "output_type": "execute_result"
    }
   ],
   "source": [
    "df.isnull().sum()"
   ]
  },
  {
   "cell_type": "code",
   "execution_count": 13,
   "id": "2eb203ee",
   "metadata": {},
   "outputs": [
    {
     "data": {
      "text/html": [
       "<div>\n",
       "<style scoped>\n",
       "    .dataframe tbody tr th:only-of-type {\n",
       "        vertical-align: middle;\n",
       "    }\n",
       "\n",
       "    .dataframe tbody tr th {\n",
       "        vertical-align: top;\n",
       "    }\n",
       "\n",
       "    .dataframe thead th {\n",
       "        text-align: right;\n",
       "    }\n",
       "</style>\n",
       "<table border=\"1\" class=\"dataframe\">\n",
       "  <thead>\n",
       "    <tr style=\"text-align: right;\">\n",
       "      <th></th>\n",
       "      <th>CAPITAL</th>\n",
       "      <th>NOMBDEP</th>\n",
       "      <th>NOMBPROV</th>\n",
       "      <th>NOMBDIST</th>\n",
       "      <th>UBIGEO</th>\n",
       "      <th>KM2</th>\n",
       "      <th>SIMSUE</th>\n",
       "      <th>DESCRIPCIO</th>\n",
       "      <th>PROPOR</th>\n",
       "      <th>PAISAJE</th>\n",
       "      <th>PENDIENTE</th>\n",
       "      <th>longitud</th>\n",
       "      <th>latitud</th>\n",
       "    </tr>\n",
       "  </thead>\n",
       "  <tbody>\n",
       "    <tr>\n",
       "      <th>0</th>\n",
       "      <td>ABANCAY</td>\n",
       "      <td>APURIMAC</td>\n",
       "      <td>ABANCAY</td>\n",
       "      <td>ABANCAY</td>\n",
       "      <td>30101</td>\n",
       "      <td>142.869853</td>\n",
       "      <td>LPe-RGe-R</td>\n",
       "      <td>Leptosol éutrico - Regosol éutrico - Afloramie...</td>\n",
       "      <td>40-30-30</td>\n",
       "      <td>Lomadas, colinas y montañas</td>\n",
       "      <td>8-25,  25 a +75</td>\n",
       "      <td>-72.925268</td>\n",
       "      <td>-13.627526</td>\n",
       "    </tr>\n",
       "    <tr>\n",
       "      <th>1</th>\n",
       "      <td>ABANCAY</td>\n",
       "      <td>APURIMAC</td>\n",
       "      <td>ABANCAY</td>\n",
       "      <td>ABANCAY</td>\n",
       "      <td>30101</td>\n",
       "      <td>143.828013</td>\n",
       "      <td>LPe-KSh-R</td>\n",
       "      <td>Leptosol éutrico - Kastanozem háplico - Aflora...</td>\n",
       "      <td>40-30-30</td>\n",
       "      <td>Lomadas, colinas y montañas</td>\n",
       "      <td>8-25,  25 a +75</td>\n",
       "      <td>-72.818309</td>\n",
       "      <td>-13.644102</td>\n",
       "    </tr>\n",
       "    <tr>\n",
       "      <th>2</th>\n",
       "      <td>CHACOCHE</td>\n",
       "      <td>APURIMAC</td>\n",
       "      <td>ABANCAY</td>\n",
       "      <td>CHACOCHE</td>\n",
       "      <td>30102</td>\n",
       "      <td>70.230736</td>\n",
       "      <td>LPe-RGe-R</td>\n",
       "      <td>Leptosol éutrico - Regosol éutrico - Afloramie...</td>\n",
       "      <td>40-30-30</td>\n",
       "      <td>Lomadas, colinas y montañas</td>\n",
       "      <td>8-25,  25 a +75</td>\n",
       "      <td>-72.997489</td>\n",
       "      <td>-13.946595</td>\n",
       "    </tr>\n",
       "    <tr>\n",
       "      <th>3</th>\n",
       "      <td>CHACOCHE</td>\n",
       "      <td>APURIMAC</td>\n",
       "      <td>ABANCAY</td>\n",
       "      <td>CHACOCHE</td>\n",
       "      <td>30102</td>\n",
       "      <td>106.682227</td>\n",
       "      <td>LPe-KSh-R</td>\n",
       "      <td>Leptosol éutrico - Kastanozem háplico - Aflora...</td>\n",
       "      <td>40-30-30</td>\n",
       "      <td>Lomadas, colinas y montañas</td>\n",
       "      <td>8-25,  25 a +75</td>\n",
       "      <td>-72.987208</td>\n",
       "      <td>-14.030879</td>\n",
       "    </tr>\n",
       "    <tr>\n",
       "      <th>4</th>\n",
       "      <td>CIRCA</td>\n",
       "      <td>APURIMAC</td>\n",
       "      <td>ABANCAY</td>\n",
       "      <td>CIRCA</td>\n",
       "      <td>30103</td>\n",
       "      <td>317.268493</td>\n",
       "      <td>LPe-RGe-R</td>\n",
       "      <td>Leptosol éutrico - Regosol éutrico - Afloramie...</td>\n",
       "      <td>40-30-30</td>\n",
       "      <td>Lomadas, colinas y montañas</td>\n",
       "      <td>8-25,  25 a +75</td>\n",
       "      <td>-72.904436</td>\n",
       "      <td>-13.898081</td>\n",
       "    </tr>\n",
       "  </tbody>\n",
       "</table>\n",
       "</div>"
      ],
      "text/plain": [
       "    CAPITAL   NOMBDEP NOMBPROV  NOMBDIST  UBIGEO         KM2     SIMSUE  \\\n",
       "0   ABANCAY  APURIMAC  ABANCAY   ABANCAY   30101  142.869853  LPe-RGe-R   \n",
       "1   ABANCAY  APURIMAC  ABANCAY   ABANCAY   30101  143.828013  LPe-KSh-R   \n",
       "2  CHACOCHE  APURIMAC  ABANCAY  CHACOCHE   30102   70.230736  LPe-RGe-R   \n",
       "3  CHACOCHE  APURIMAC  ABANCAY  CHACOCHE   30102  106.682227  LPe-KSh-R   \n",
       "4     CIRCA  APURIMAC  ABANCAY     CIRCA   30103  317.268493  LPe-RGe-R   \n",
       "\n",
       "                                          DESCRIPCIO    PROPOR  \\\n",
       "0  Leptosol éutrico - Regosol éutrico - Afloramie...  40-30-30   \n",
       "1  Leptosol éutrico - Kastanozem háplico - Aflora...  40-30-30   \n",
       "2  Leptosol éutrico - Regosol éutrico - Afloramie...  40-30-30   \n",
       "3  Leptosol éutrico - Kastanozem háplico - Aflora...  40-30-30   \n",
       "4  Leptosol éutrico - Regosol éutrico - Afloramie...  40-30-30   \n",
       "\n",
       "                       PAISAJE        PENDIENTE   longitud    latitud  \n",
       "0  Lomadas, colinas y montañas  8-25,  25 a +75 -72.925268 -13.627526  \n",
       "1  Lomadas, colinas y montañas  8-25,  25 a +75 -72.818309 -13.644102  \n",
       "2  Lomadas, colinas y montañas  8-25,  25 a +75 -72.997489 -13.946595  \n",
       "3  Lomadas, colinas y montañas  8-25,  25 a +75 -72.987208 -14.030879  \n",
       "4  Lomadas, colinas y montañas  8-25,  25 a +75 -72.904436 -13.898081  "
      ]
     },
     "execution_count": 13,
     "metadata": {},
     "output_type": "execute_result"
    }
   ],
   "source": [
    "df.head(5)"
   ]
  },
  {
   "cell_type": "markdown",
   "id": "f951241d",
   "metadata": {},
   "source": [
    "# Creacion de los Ides segun la base de datos consolidada"
   ]
  },
  {
   "cell_type": "markdown",
   "id": "e411acec",
   "metadata": {},
   "source": [
    "Nombre del departamento + Nombre de la provincia + Nombre del distrito + año"
   ]
  },
  {
   "cell_type": "code",
   "execution_count": 7,
   "id": "c93714b5",
   "metadata": {},
   "outputs": [],
   "source": [
    "df['DPD'] = df.NOMBDEP + df.NOMBPROV + df.NOMBDIST + '2004'"
   ]
  },
  {
   "cell_type": "code",
   "execution_count": 11,
   "id": "7e404e4e",
   "metadata": {},
   "outputs": [
    {
     "data": {
      "text/plain": [
       "array([2004, 2005, 2006, 2007, 2008, 2009, 2010, 2011, 2012, 2013, 2014,\n",
       "       2015, 2016, 2017, 2018, 2019, 2020, 2021, 2022])"
      ]
     },
     "execution_count": 11,
     "metadata": {},
     "output_type": "execute_result"
    }
   ],
   "source": [
    "anios = np.arange(2004,2023,1)\n",
    "anios"
   ]
  },
  {
   "cell_type": "code",
   "execution_count": 8,
   "id": "813808c6",
   "metadata": {
    "scrolled": false
   },
   "outputs": [
    {
     "data": {
      "text/html": [
       "<div>\n",
       "<style scoped>\n",
       "    .dataframe tbody tr th:only-of-type {\n",
       "        vertical-align: middle;\n",
       "    }\n",
       "\n",
       "    .dataframe tbody tr th {\n",
       "        vertical-align: top;\n",
       "    }\n",
       "\n",
       "    .dataframe thead th {\n",
       "        text-align: right;\n",
       "    }\n",
       "</style>\n",
       "<table border=\"1\" class=\"dataframe\">\n",
       "  <thead>\n",
       "    <tr style=\"text-align: right;\">\n",
       "      <th></th>\n",
       "      <th>CAPITAL</th>\n",
       "      <th>NOMBDEP</th>\n",
       "      <th>NOMBPROV</th>\n",
       "      <th>NOMBDIST</th>\n",
       "      <th>UBIGEO</th>\n",
       "      <th>KM2</th>\n",
       "      <th>SIMSUE</th>\n",
       "      <th>DESCRIPCIO</th>\n",
       "      <th>PROPOR</th>\n",
       "      <th>PAISAJE</th>\n",
       "      <th>PENDIENTE</th>\n",
       "      <th>longitud</th>\n",
       "      <th>latitud</th>\n",
       "      <th>DPD</th>\n",
       "    </tr>\n",
       "  </thead>\n",
       "  <tbody>\n",
       "    <tr>\n",
       "      <th>0</th>\n",
       "      <td>ABANCAY</td>\n",
       "      <td>APURIMAC</td>\n",
       "      <td>ABANCAY</td>\n",
       "      <td>ABANCAY</td>\n",
       "      <td>30101</td>\n",
       "      <td>142.869853</td>\n",
       "      <td>LPe-RGe-R</td>\n",
       "      <td>Leptosol éutrico - Regosol éutrico - Afloramie...</td>\n",
       "      <td>40-30-30</td>\n",
       "      <td>Lomadas, colinas y montañas</td>\n",
       "      <td>8-25,  25 a +75</td>\n",
       "      <td>-72.925268</td>\n",
       "      <td>-13.627526</td>\n",
       "      <td>APURIMACABANCAYABANCAY2004</td>\n",
       "    </tr>\n",
       "    <tr>\n",
       "      <th>1</th>\n",
       "      <td>ABANCAY</td>\n",
       "      <td>APURIMAC</td>\n",
       "      <td>ABANCAY</td>\n",
       "      <td>ABANCAY</td>\n",
       "      <td>30101</td>\n",
       "      <td>143.828013</td>\n",
       "      <td>LPe-KSh-R</td>\n",
       "      <td>Leptosol éutrico - Kastanozem háplico - Aflora...</td>\n",
       "      <td>40-30-30</td>\n",
       "      <td>Lomadas, colinas y montañas</td>\n",
       "      <td>8-25,  25 a +75</td>\n",
       "      <td>-72.818309</td>\n",
       "      <td>-13.644102</td>\n",
       "      <td>APURIMACABANCAYABANCAY2004</td>\n",
       "    </tr>\n",
       "    <tr>\n",
       "      <th>2</th>\n",
       "      <td>CHACOCHE</td>\n",
       "      <td>APURIMAC</td>\n",
       "      <td>ABANCAY</td>\n",
       "      <td>CHACOCHE</td>\n",
       "      <td>30102</td>\n",
       "      <td>70.230736</td>\n",
       "      <td>LPe-RGe-R</td>\n",
       "      <td>Leptosol éutrico - Regosol éutrico - Afloramie...</td>\n",
       "      <td>40-30-30</td>\n",
       "      <td>Lomadas, colinas y montañas</td>\n",
       "      <td>8-25,  25 a +75</td>\n",
       "      <td>-72.997489</td>\n",
       "      <td>-13.946595</td>\n",
       "      <td>APURIMACABANCAYCHACOCHE2004</td>\n",
       "    </tr>\n",
       "    <tr>\n",
       "      <th>3</th>\n",
       "      <td>CHACOCHE</td>\n",
       "      <td>APURIMAC</td>\n",
       "      <td>ABANCAY</td>\n",
       "      <td>CHACOCHE</td>\n",
       "      <td>30102</td>\n",
       "      <td>106.682227</td>\n",
       "      <td>LPe-KSh-R</td>\n",
       "      <td>Leptosol éutrico - Kastanozem háplico - Aflora...</td>\n",
       "      <td>40-30-30</td>\n",
       "      <td>Lomadas, colinas y montañas</td>\n",
       "      <td>8-25,  25 a +75</td>\n",
       "      <td>-72.987208</td>\n",
       "      <td>-14.030879</td>\n",
       "      <td>APURIMACABANCAYCHACOCHE2004</td>\n",
       "    </tr>\n",
       "    <tr>\n",
       "      <th>4</th>\n",
       "      <td>CIRCA</td>\n",
       "      <td>APURIMAC</td>\n",
       "      <td>ABANCAY</td>\n",
       "      <td>CIRCA</td>\n",
       "      <td>30103</td>\n",
       "      <td>317.268493</td>\n",
       "      <td>LPe-RGe-R</td>\n",
       "      <td>Leptosol éutrico - Regosol éutrico - Afloramie...</td>\n",
       "      <td>40-30-30</td>\n",
       "      <td>Lomadas, colinas y montañas</td>\n",
       "      <td>8-25,  25 a +75</td>\n",
       "      <td>-72.904436</td>\n",
       "      <td>-13.898081</td>\n",
       "      <td>APURIMACABANCAYCIRCA2004</td>\n",
       "    </tr>\n",
       "  </tbody>\n",
       "</table>\n",
       "</div>"
      ],
      "text/plain": [
       "    CAPITAL   NOMBDEP NOMBPROV  NOMBDIST  UBIGEO         KM2     SIMSUE  \\\n",
       "0   ABANCAY  APURIMAC  ABANCAY   ABANCAY   30101  142.869853  LPe-RGe-R   \n",
       "1   ABANCAY  APURIMAC  ABANCAY   ABANCAY   30101  143.828013  LPe-KSh-R   \n",
       "2  CHACOCHE  APURIMAC  ABANCAY  CHACOCHE   30102   70.230736  LPe-RGe-R   \n",
       "3  CHACOCHE  APURIMAC  ABANCAY  CHACOCHE   30102  106.682227  LPe-KSh-R   \n",
       "4     CIRCA  APURIMAC  ABANCAY     CIRCA   30103  317.268493  LPe-RGe-R   \n",
       "\n",
       "                                          DESCRIPCIO    PROPOR  \\\n",
       "0  Leptosol éutrico - Regosol éutrico - Afloramie...  40-30-30   \n",
       "1  Leptosol éutrico - Kastanozem háplico - Aflora...  40-30-30   \n",
       "2  Leptosol éutrico - Regosol éutrico - Afloramie...  40-30-30   \n",
       "3  Leptosol éutrico - Kastanozem háplico - Aflora...  40-30-30   \n",
       "4  Leptosol éutrico - Regosol éutrico - Afloramie...  40-30-30   \n",
       "\n",
       "                       PAISAJE        PENDIENTE   longitud    latitud  \\\n",
       "0  Lomadas, colinas y montañas  8-25,  25 a +75 -72.925268 -13.627526   \n",
       "1  Lomadas, colinas y montañas  8-25,  25 a +75 -72.818309 -13.644102   \n",
       "2  Lomadas, colinas y montañas  8-25,  25 a +75 -72.997489 -13.946595   \n",
       "3  Lomadas, colinas y montañas  8-25,  25 a +75 -72.987208 -14.030879   \n",
       "4  Lomadas, colinas y montañas  8-25,  25 a +75 -72.904436 -13.898081   \n",
       "\n",
       "                           DPD  \n",
       "0   APURIMACABANCAYABANCAY2004  \n",
       "1   APURIMACABANCAYABANCAY2004  \n",
       "2  APURIMACABANCAYCHACOCHE2004  \n",
       "3  APURIMACABANCAYCHACOCHE2004  \n",
       "4     APURIMACABANCAYCIRCA2004  "
      ]
     },
     "execution_count": 8,
     "metadata": {},
     "output_type": "execute_result"
    }
   ],
   "source": [
    "df.head(5)"
   ]
  },
  {
   "cell_type": "code",
   "execution_count": null,
   "id": "8ee367b0",
   "metadata": {},
   "outputs": [],
   "source": [
    "df1 = df.copy()\n",
    "df2 = df.copy()"
   ]
  },
  {
   "cell_type": "markdown",
   "id": "e6532961",
   "metadata": {},
   "source": [
    "Como el periodo a evaluar es de 2004 al 2002, creo uan lsita con datarframes con los keys ya transformados"
   ]
  },
  {
   "cell_type": "code",
   "execution_count": 16,
   "id": "3083b599",
   "metadata": {},
   "outputs": [],
   "source": [
    "# Crea una lista para almacenar las copias\n",
    "df_copies = [df.copy() for _ in range(len(list(anios)))]"
   ]
  },
  {
   "cell_type": "code",
   "execution_count": 18,
   "id": "e04c29b6",
   "metadata": {},
   "outputs": [
    {
     "data": {
      "text/plain": [
       "(2048, 13)"
      ]
     },
     "execution_count": 18,
     "metadata": {},
     "output_type": "execute_result"
    }
   ],
   "source": [
    "df_copies[0].shape"
   ]
  },
  {
   "cell_type": "code",
   "execution_count": 19,
   "id": "ab2051ed",
   "metadata": {},
   "outputs": [],
   "source": [
    "anios = list(anios)\n",
    "for i in range(len(list(anios))):\n",
    "    df_copies[i]['DPD'] = df_copies[i].NOMBDEP + df_copies[i].NOMBPROV + df_copies[i].NOMBDIST + str(anios[i])"
   ]
  },
  {
   "cell_type": "code",
   "execution_count": null,
   "id": "e9d5fdcc",
   "metadata": {},
   "outputs": [],
   "source": [
    "df['DPD'] = df.NOMBDEP + df.NOMBPROV + df.NOMBDIST + str(anios[i])"
   ]
  },
  {
   "cell_type": "code",
   "execution_count": 25,
   "id": "d594c1a3",
   "metadata": {},
   "outputs": [
    {
     "data": {
      "text/html": [
       "<div>\n",
       "<style scoped>\n",
       "    .dataframe tbody tr th:only-of-type {\n",
       "        vertical-align: middle;\n",
       "    }\n",
       "\n",
       "    .dataframe tbody tr th {\n",
       "        vertical-align: top;\n",
       "    }\n",
       "\n",
       "    .dataframe thead th {\n",
       "        text-align: right;\n",
       "    }\n",
       "</style>\n",
       "<table border=\"1\" class=\"dataframe\">\n",
       "  <thead>\n",
       "    <tr style=\"text-align: right;\">\n",
       "      <th></th>\n",
       "      <th>CAPITAL</th>\n",
       "      <th>NOMBDEP</th>\n",
       "      <th>NOMBPROV</th>\n",
       "      <th>NOMBDIST</th>\n",
       "      <th>UBIGEO</th>\n",
       "      <th>KM2</th>\n",
       "      <th>SIMSUE</th>\n",
       "      <th>DESCRIPCIO</th>\n",
       "      <th>PROPOR</th>\n",
       "      <th>PAISAJE</th>\n",
       "      <th>PENDIENTE</th>\n",
       "      <th>longitud</th>\n",
       "      <th>latitud</th>\n",
       "      <th>DPD</th>\n",
       "    </tr>\n",
       "  </thead>\n",
       "  <tbody>\n",
       "    <tr>\n",
       "      <th>0</th>\n",
       "      <td>ABANCAY</td>\n",
       "      <td>APURIMAC</td>\n",
       "      <td>ABANCAY</td>\n",
       "      <td>ABANCAY</td>\n",
       "      <td>30101</td>\n",
       "      <td>142.869853</td>\n",
       "      <td>LPe-RGe-R</td>\n",
       "      <td>Leptosol éutrico - Regosol éutrico - Afloramie...</td>\n",
       "      <td>40-30-30</td>\n",
       "      <td>Lomadas, colinas y montañas</td>\n",
       "      <td>8-25,  25 a +75</td>\n",
       "      <td>-72.925268</td>\n",
       "      <td>-13.627526</td>\n",
       "      <td>APURIMACABANCAYABANCAY2022</td>\n",
       "    </tr>\n",
       "    <tr>\n",
       "      <th>1</th>\n",
       "      <td>ABANCAY</td>\n",
       "      <td>APURIMAC</td>\n",
       "      <td>ABANCAY</td>\n",
       "      <td>ABANCAY</td>\n",
       "      <td>30101</td>\n",
       "      <td>143.828013</td>\n",
       "      <td>LPe-KSh-R</td>\n",
       "      <td>Leptosol éutrico - Kastanozem háplico - Aflora...</td>\n",
       "      <td>40-30-30</td>\n",
       "      <td>Lomadas, colinas y montañas</td>\n",
       "      <td>8-25,  25 a +75</td>\n",
       "      <td>-72.818309</td>\n",
       "      <td>-13.644102</td>\n",
       "      <td>APURIMACABANCAYABANCAY2022</td>\n",
       "    </tr>\n",
       "    <tr>\n",
       "      <th>2</th>\n",
       "      <td>CHACOCHE</td>\n",
       "      <td>APURIMAC</td>\n",
       "      <td>ABANCAY</td>\n",
       "      <td>CHACOCHE</td>\n",
       "      <td>30102</td>\n",
       "      <td>70.230736</td>\n",
       "      <td>LPe-RGe-R</td>\n",
       "      <td>Leptosol éutrico - Regosol éutrico - Afloramie...</td>\n",
       "      <td>40-30-30</td>\n",
       "      <td>Lomadas, colinas y montañas</td>\n",
       "      <td>8-25,  25 a +75</td>\n",
       "      <td>-72.997489</td>\n",
       "      <td>-13.946595</td>\n",
       "      <td>APURIMACABANCAYCHACOCHE2022</td>\n",
       "    </tr>\n",
       "    <tr>\n",
       "      <th>3</th>\n",
       "      <td>CHACOCHE</td>\n",
       "      <td>APURIMAC</td>\n",
       "      <td>ABANCAY</td>\n",
       "      <td>CHACOCHE</td>\n",
       "      <td>30102</td>\n",
       "      <td>106.682227</td>\n",
       "      <td>LPe-KSh-R</td>\n",
       "      <td>Leptosol éutrico - Kastanozem háplico - Aflora...</td>\n",
       "      <td>40-30-30</td>\n",
       "      <td>Lomadas, colinas y montañas</td>\n",
       "      <td>8-25,  25 a +75</td>\n",
       "      <td>-72.987208</td>\n",
       "      <td>-14.030879</td>\n",
       "      <td>APURIMACABANCAYCHACOCHE2022</td>\n",
       "    </tr>\n",
       "    <tr>\n",
       "      <th>4</th>\n",
       "      <td>CIRCA</td>\n",
       "      <td>APURIMAC</td>\n",
       "      <td>ABANCAY</td>\n",
       "      <td>CIRCA</td>\n",
       "      <td>30103</td>\n",
       "      <td>317.268493</td>\n",
       "      <td>LPe-RGe-R</td>\n",
       "      <td>Leptosol éutrico - Regosol éutrico - Afloramie...</td>\n",
       "      <td>40-30-30</td>\n",
       "      <td>Lomadas, colinas y montañas</td>\n",
       "      <td>8-25,  25 a +75</td>\n",
       "      <td>-72.904436</td>\n",
       "      <td>-13.898081</td>\n",
       "      <td>APURIMACABANCAYCIRCA2022</td>\n",
       "    </tr>\n",
       "    <tr>\n",
       "      <th>...</th>\n",
       "      <td>...</td>\n",
       "      <td>...</td>\n",
       "      <td>...</td>\n",
       "      <td>...</td>\n",
       "      <td>...</td>\n",
       "      <td>...</td>\n",
       "      <td>...</td>\n",
       "      <td>...</td>\n",
       "      <td>...</td>\n",
       "      <td>...</td>\n",
       "      <td>...</td>\n",
       "      <td>...</td>\n",
       "      <td>...</td>\n",
       "      <td>...</td>\n",
       "    </tr>\n",
       "    <tr>\n",
       "      <th>2043</th>\n",
       "      <td>SAN JUAN DE CUTURAPI</td>\n",
       "      <td>PUNO</td>\n",
       "      <td>YUNGUYO</td>\n",
       "      <td>CUTURAPI</td>\n",
       "      <td>211304</td>\n",
       "      <td>23.920474</td>\n",
       "      <td>CMe-PHh</td>\n",
       "      <td>Cambisol éutrico - Phaeozem háplico</td>\n",
       "      <td>60-40</td>\n",
       "      <td>Lomadas, colinas y montañas</td>\n",
       "      <td>8-25,  25 a +75</td>\n",
       "      <td>-69.180568</td>\n",
       "      <td>-16.293086</td>\n",
       "      <td>PUNOYUNGUYOCUTURAPI2022</td>\n",
       "    </tr>\n",
       "    <tr>\n",
       "      <th>2044</th>\n",
       "      <td>MARCAJA</td>\n",
       "      <td>PUNO</td>\n",
       "      <td>YUNGUYO</td>\n",
       "      <td>UNICACHI</td>\n",
       "      <td>211307</td>\n",
       "      <td>6.023673</td>\n",
       "      <td>CMe-PHh</td>\n",
       "      <td>Cambisol éutrico - Phaeozem háplico</td>\n",
       "      <td>60-40</td>\n",
       "      <td>Lomadas, colinas y montañas</td>\n",
       "      <td>8-25,  25 a +75</td>\n",
       "      <td>-68.972270</td>\n",
       "      <td>-16.220910</td>\n",
       "      <td>PUNOYUNGUYOUNICACHI2022</td>\n",
       "    </tr>\n",
       "    <tr>\n",
       "      <th>2045</th>\n",
       "      <td>MARCAJA</td>\n",
       "      <td>PUNO</td>\n",
       "      <td>YUNGUYO</td>\n",
       "      <td>UNICACHI</td>\n",
       "      <td>211307</td>\n",
       "      <td>2.066279</td>\n",
       "      <td>CMe-PHh</td>\n",
       "      <td>Cambisol éutrico - Phaeozem háplico</td>\n",
       "      <td>60-40</td>\n",
       "      <td>Lomadas, colinas y montañas</td>\n",
       "      <td>8-25,  25 a +75</td>\n",
       "      <td>-68.945478</td>\n",
       "      <td>-16.235417</td>\n",
       "      <td>PUNOYUNGUYOUNICACHI2022</td>\n",
       "    </tr>\n",
       "    <tr>\n",
       "      <th>2046</th>\n",
       "      <td>YUNGUYO</td>\n",
       "      <td>PUNO</td>\n",
       "      <td>YUNGUYO</td>\n",
       "      <td>YUNGUYO</td>\n",
       "      <td>211301</td>\n",
       "      <td>176.313985</td>\n",
       "      <td>CMe-PHh</td>\n",
       "      <td>Cambisol éutrico - Phaeozem háplico</td>\n",
       "      <td>60-40</td>\n",
       "      <td>Lomadas, colinas y montañas</td>\n",
       "      <td>8-25,  25 a +75</td>\n",
       "      <td>-69.090193</td>\n",
       "      <td>-16.282806</td>\n",
       "      <td>PUNOYUNGUYOYUNGUYO2022</td>\n",
       "    </tr>\n",
       "    <tr>\n",
       "      <th>2047</th>\n",
       "      <td>MATAPALO</td>\n",
       "      <td>TUMBES</td>\n",
       "      <td>ZARUMILLA</td>\n",
       "      <td>MATAPALO</td>\n",
       "      <td>240303</td>\n",
       "      <td>391.369738</td>\n",
       "      <td>CMe-VRe</td>\n",
       "      <td>Cambisol éutrico - Vertisol éutrico</td>\n",
       "      <td>60-40</td>\n",
       "      <td>Lomadas, colinas y montañas</td>\n",
       "      <td>8-25,  25 a +75</td>\n",
       "      <td>-80.228754</td>\n",
       "      <td>-3.767686</td>\n",
       "      <td>TUMBESZARUMILLAMATAPALO2022</td>\n",
       "    </tr>\n",
       "  </tbody>\n",
       "</table>\n",
       "<p>2048 rows × 14 columns</p>\n",
       "</div>"
      ],
      "text/plain": [
       "                   CAPITAL   NOMBDEP   NOMBPROV  NOMBDIST  UBIGEO         KM2  \\\n",
       "0                  ABANCAY  APURIMAC    ABANCAY   ABANCAY   30101  142.869853   \n",
       "1                  ABANCAY  APURIMAC    ABANCAY   ABANCAY   30101  143.828013   \n",
       "2                 CHACOCHE  APURIMAC    ABANCAY  CHACOCHE   30102   70.230736   \n",
       "3                 CHACOCHE  APURIMAC    ABANCAY  CHACOCHE   30102  106.682227   \n",
       "4                    CIRCA  APURIMAC    ABANCAY     CIRCA   30103  317.268493   \n",
       "...                    ...       ...        ...       ...     ...         ...   \n",
       "2043  SAN JUAN DE CUTURAPI      PUNO    YUNGUYO  CUTURAPI  211304   23.920474   \n",
       "2044               MARCAJA      PUNO    YUNGUYO  UNICACHI  211307    6.023673   \n",
       "2045               MARCAJA      PUNO    YUNGUYO  UNICACHI  211307    2.066279   \n",
       "2046               YUNGUYO      PUNO    YUNGUYO   YUNGUYO  211301  176.313985   \n",
       "2047              MATAPALO    TUMBES  ZARUMILLA  MATAPALO  240303  391.369738   \n",
       "\n",
       "         SIMSUE                                         DESCRIPCIO    PROPOR  \\\n",
       "0     LPe-RGe-R  Leptosol éutrico - Regosol éutrico - Afloramie...  40-30-30   \n",
       "1     LPe-KSh-R  Leptosol éutrico - Kastanozem háplico - Aflora...  40-30-30   \n",
       "2     LPe-RGe-R  Leptosol éutrico - Regosol éutrico - Afloramie...  40-30-30   \n",
       "3     LPe-KSh-R  Leptosol éutrico - Kastanozem háplico - Aflora...  40-30-30   \n",
       "4     LPe-RGe-R  Leptosol éutrico - Regosol éutrico - Afloramie...  40-30-30   \n",
       "...         ...                                                ...       ...   \n",
       "2043    CMe-PHh                Cambisol éutrico - Phaeozem háplico     60-40   \n",
       "2044    CMe-PHh                Cambisol éutrico - Phaeozem háplico     60-40   \n",
       "2045    CMe-PHh                Cambisol éutrico - Phaeozem háplico     60-40   \n",
       "2046    CMe-PHh                Cambisol éutrico - Phaeozem háplico     60-40   \n",
       "2047    CMe-VRe                Cambisol éutrico - Vertisol éutrico     60-40   \n",
       "\n",
       "                          PAISAJE        PENDIENTE   longitud    latitud  \\\n",
       "0     Lomadas, colinas y montañas  8-25,  25 a +75 -72.925268 -13.627526   \n",
       "1     Lomadas, colinas y montañas  8-25,  25 a +75 -72.818309 -13.644102   \n",
       "2     Lomadas, colinas y montañas  8-25,  25 a +75 -72.997489 -13.946595   \n",
       "3     Lomadas, colinas y montañas  8-25,  25 a +75 -72.987208 -14.030879   \n",
       "4     Lomadas, colinas y montañas  8-25,  25 a +75 -72.904436 -13.898081   \n",
       "...                           ...              ...        ...        ...   \n",
       "2043  Lomadas, colinas y montañas  8-25,  25 a +75 -69.180568 -16.293086   \n",
       "2044  Lomadas, colinas y montañas  8-25,  25 a +75 -68.972270 -16.220910   \n",
       "2045  Lomadas, colinas y montañas  8-25,  25 a +75 -68.945478 -16.235417   \n",
       "2046  Lomadas, colinas y montañas  8-25,  25 a +75 -69.090193 -16.282806   \n",
       "2047  Lomadas, colinas y montañas  8-25,  25 a +75 -80.228754  -3.767686   \n",
       "\n",
       "                              DPD  \n",
       "0      APURIMACABANCAYABANCAY2022  \n",
       "1      APURIMACABANCAYABANCAY2022  \n",
       "2     APURIMACABANCAYCHACOCHE2022  \n",
       "3     APURIMACABANCAYCHACOCHE2022  \n",
       "4        APURIMACABANCAYCIRCA2022  \n",
       "...                           ...  \n",
       "2043      PUNOYUNGUYOCUTURAPI2022  \n",
       "2044      PUNOYUNGUYOUNICACHI2022  \n",
       "2045      PUNOYUNGUYOUNICACHI2022  \n",
       "2046       PUNOYUNGUYOYUNGUYO2022  \n",
       "2047  TUMBESZARUMILLAMATAPALO2022  \n",
       "\n",
       "[2048 rows x 14 columns]"
      ]
     },
     "execution_count": 25,
     "metadata": {},
     "output_type": "execute_result"
    }
   ],
   "source": [
    "df_copies[18]"
   ]
  },
  {
   "cell_type": "code",
   "execution_count": 29,
   "id": "5ad76573",
   "metadata": {},
   "outputs": [
    {
     "data": {
      "text/html": [
       "<div>\n",
       "<style scoped>\n",
       "    .dataframe tbody tr th:only-of-type {\n",
       "        vertical-align: middle;\n",
       "    }\n",
       "\n",
       "    .dataframe tbody tr th {\n",
       "        vertical-align: top;\n",
       "    }\n",
       "\n",
       "    .dataframe thead th {\n",
       "        text-align: right;\n",
       "    }\n",
       "</style>\n",
       "<table border=\"1\" class=\"dataframe\">\n",
       "  <thead>\n",
       "    <tr style=\"text-align: right;\">\n",
       "      <th></th>\n",
       "      <th>CAPITAL</th>\n",
       "      <th>NOMBDEP</th>\n",
       "      <th>NOMBPROV</th>\n",
       "      <th>NOMBDIST</th>\n",
       "      <th>UBIGEO</th>\n",
       "      <th>KM2</th>\n",
       "      <th>SIMSUE</th>\n",
       "      <th>DESCRIPCIO</th>\n",
       "      <th>PROPOR</th>\n",
       "      <th>PAISAJE</th>\n",
       "      <th>PENDIENTE</th>\n",
       "      <th>longitud</th>\n",
       "      <th>latitud</th>\n",
       "      <th>DPD</th>\n",
       "    </tr>\n",
       "  </thead>\n",
       "  <tbody>\n",
       "    <tr>\n",
       "      <th>0</th>\n",
       "      <td>ABANCAY</td>\n",
       "      <td>APURIMAC</td>\n",
       "      <td>ABANCAY</td>\n",
       "      <td>ABANCAY</td>\n",
       "      <td>30101</td>\n",
       "      <td>142.869853</td>\n",
       "      <td>LPe-RGe-R</td>\n",
       "      <td>Leptosol éutrico - Regosol éutrico - Afloramie...</td>\n",
       "      <td>40-30-30</td>\n",
       "      <td>Lomadas, colinas y montañas</td>\n",
       "      <td>8-25,  25 a +75</td>\n",
       "      <td>-72.925268</td>\n",
       "      <td>-13.627526</td>\n",
       "      <td>APURIMACABANCAYABANCAY2004</td>\n",
       "    </tr>\n",
       "    <tr>\n",
       "      <th>1</th>\n",
       "      <td>ABANCAY</td>\n",
       "      <td>APURIMAC</td>\n",
       "      <td>ABANCAY</td>\n",
       "      <td>ABANCAY</td>\n",
       "      <td>30101</td>\n",
       "      <td>143.828013</td>\n",
       "      <td>LPe-KSh-R</td>\n",
       "      <td>Leptosol éutrico - Kastanozem háplico - Aflora...</td>\n",
       "      <td>40-30-30</td>\n",
       "      <td>Lomadas, colinas y montañas</td>\n",
       "      <td>8-25,  25 a +75</td>\n",
       "      <td>-72.818309</td>\n",
       "      <td>-13.644102</td>\n",
       "      <td>APURIMACABANCAYABANCAY2004</td>\n",
       "    </tr>\n",
       "    <tr>\n",
       "      <th>2</th>\n",
       "      <td>CHACOCHE</td>\n",
       "      <td>APURIMAC</td>\n",
       "      <td>ABANCAY</td>\n",
       "      <td>CHACOCHE</td>\n",
       "      <td>30102</td>\n",
       "      <td>70.230736</td>\n",
       "      <td>LPe-RGe-R</td>\n",
       "      <td>Leptosol éutrico - Regosol éutrico - Afloramie...</td>\n",
       "      <td>40-30-30</td>\n",
       "      <td>Lomadas, colinas y montañas</td>\n",
       "      <td>8-25,  25 a +75</td>\n",
       "      <td>-72.997489</td>\n",
       "      <td>-13.946595</td>\n",
       "      <td>APURIMACABANCAYCHACOCHE2004</td>\n",
       "    </tr>\n",
       "    <tr>\n",
       "      <th>3</th>\n",
       "      <td>CHACOCHE</td>\n",
       "      <td>APURIMAC</td>\n",
       "      <td>ABANCAY</td>\n",
       "      <td>CHACOCHE</td>\n",
       "      <td>30102</td>\n",
       "      <td>106.682227</td>\n",
       "      <td>LPe-KSh-R</td>\n",
       "      <td>Leptosol éutrico - Kastanozem háplico - Aflora...</td>\n",
       "      <td>40-30-30</td>\n",
       "      <td>Lomadas, colinas y montañas</td>\n",
       "      <td>8-25,  25 a +75</td>\n",
       "      <td>-72.987208</td>\n",
       "      <td>-14.030879</td>\n",
       "      <td>APURIMACABANCAYCHACOCHE2004</td>\n",
       "    </tr>\n",
       "    <tr>\n",
       "      <th>4</th>\n",
       "      <td>CIRCA</td>\n",
       "      <td>APURIMAC</td>\n",
       "      <td>ABANCAY</td>\n",
       "      <td>CIRCA</td>\n",
       "      <td>30103</td>\n",
       "      <td>317.268493</td>\n",
       "      <td>LPe-RGe-R</td>\n",
       "      <td>Leptosol éutrico - Regosol éutrico - Afloramie...</td>\n",
       "      <td>40-30-30</td>\n",
       "      <td>Lomadas, colinas y montañas</td>\n",
       "      <td>8-25,  25 a +75</td>\n",
       "      <td>-72.904436</td>\n",
       "      <td>-13.898081</td>\n",
       "      <td>APURIMACABANCAYCIRCA2004</td>\n",
       "    </tr>\n",
       "  </tbody>\n",
       "</table>\n",
       "</div>"
      ],
      "text/plain": [
       "    CAPITAL   NOMBDEP NOMBPROV  NOMBDIST  UBIGEO         KM2     SIMSUE  \\\n",
       "0   ABANCAY  APURIMAC  ABANCAY   ABANCAY   30101  142.869853  LPe-RGe-R   \n",
       "1   ABANCAY  APURIMAC  ABANCAY   ABANCAY   30101  143.828013  LPe-KSh-R   \n",
       "2  CHACOCHE  APURIMAC  ABANCAY  CHACOCHE   30102   70.230736  LPe-RGe-R   \n",
       "3  CHACOCHE  APURIMAC  ABANCAY  CHACOCHE   30102  106.682227  LPe-KSh-R   \n",
       "4     CIRCA  APURIMAC  ABANCAY     CIRCA   30103  317.268493  LPe-RGe-R   \n",
       "\n",
       "                                          DESCRIPCIO    PROPOR  \\\n",
       "0  Leptosol éutrico - Regosol éutrico - Afloramie...  40-30-30   \n",
       "1  Leptosol éutrico - Kastanozem háplico - Aflora...  40-30-30   \n",
       "2  Leptosol éutrico - Regosol éutrico - Afloramie...  40-30-30   \n",
       "3  Leptosol éutrico - Kastanozem háplico - Aflora...  40-30-30   \n",
       "4  Leptosol éutrico - Regosol éutrico - Afloramie...  40-30-30   \n",
       "\n",
       "                       PAISAJE        PENDIENTE   longitud    latitud  \\\n",
       "0  Lomadas, colinas y montañas  8-25,  25 a +75 -72.925268 -13.627526   \n",
       "1  Lomadas, colinas y montañas  8-25,  25 a +75 -72.818309 -13.644102   \n",
       "2  Lomadas, colinas y montañas  8-25,  25 a +75 -72.997489 -13.946595   \n",
       "3  Lomadas, colinas y montañas  8-25,  25 a +75 -72.987208 -14.030879   \n",
       "4  Lomadas, colinas y montañas  8-25,  25 a +75 -72.904436 -13.898081   \n",
       "\n",
       "                           DPD  \n",
       "0   APURIMACABANCAYABANCAY2004  \n",
       "1   APURIMACABANCAYABANCAY2004  \n",
       "2  APURIMACABANCAYCHACOCHE2004  \n",
       "3  APURIMACABANCAYCHACOCHE2004  \n",
       "4     APURIMACABANCAYCIRCA2004  "
      ]
     },
     "execution_count": 29,
     "metadata": {},
     "output_type": "execute_result"
    }
   ],
   "source": [
    "# Concatenamos los data Frames\n",
    "result = pd.concat(df_copies, axis=0)\n",
    "result.head(5)"
   ]
  },
  {
   "cell_type": "code",
   "execution_count": 30,
   "id": "4974327b",
   "metadata": {},
   "outputs": [
    {
     "data": {
      "text/plain": [
       "(38912, 14)"
      ]
     },
     "execution_count": 30,
     "metadata": {},
     "output_type": "execute_result"
    }
   ],
   "source": [
    "result.shape"
   ]
  },
  {
   "cell_type": "markdown",
   "id": "9410d4e2",
   "metadata": {},
   "source": [
    "## Exportamos el dataframe"
   ]
  },
  {
   "cell_type": "code",
   "execution_count": 31,
   "id": "5a129dc9",
   "metadata": {},
   "outputs": [],
   "source": [
    "# Supongamos que tienes un DataFrame llamado df que deseas exportar a un archivo CSV\n",
    "result.to_csv('Suelos_2004_2022.csv', index=False)"
   ]
  },
  {
   "cell_type": "code",
   "execution_count": 32,
   "id": "7b814a2f",
   "metadata": {},
   "outputs": [],
   "source": [
    "df1 = pd.read_excel('Niveles_tipo.xlsx')"
   ]
  },
  {
   "cell_type": "markdown",
   "id": "26d5e5d5",
   "metadata": {},
   "source": [
    "## Clasificacion de los suelos de acuerdo a su clase"
   ]
  },
  {
   "cell_type": "code",
   "execution_count": 34,
   "id": "c1e87b8b",
   "metadata": {},
   "outputs": [
    {
     "data": {
      "text/html": [
       "<div>\n",
       "<style scoped>\n",
       "    .dataframe tbody tr th:only-of-type {\n",
       "        vertical-align: middle;\n",
       "    }\n",
       "\n",
       "    .dataframe tbody tr th {\n",
       "        vertical-align: top;\n",
       "    }\n",
       "\n",
       "    .dataframe thead th {\n",
       "        text-align: right;\n",
       "    }\n",
       "</style>\n",
       "<table border=\"1\" class=\"dataframe\">\n",
       "  <thead>\n",
       "    <tr style=\"text-align: right;\">\n",
       "      <th></th>\n",
       "      <th>DESCRIPCIO</th>\n",
       "      <th>NIVEL</th>\n",
       "    </tr>\n",
       "  </thead>\n",
       "  <tbody>\n",
       "    <tr>\n",
       "      <th>0</th>\n",
       "      <td>Leptosol éutrico - Regosol éutrico - Afloramie...</td>\n",
       "      <td>Nivel 1</td>\n",
       "    </tr>\n",
       "    <tr>\n",
       "      <th>1</th>\n",
       "      <td>Leptosol éutrico - Kastanozem háplico - Aflora...</td>\n",
       "      <td>Nivel 1</td>\n",
       "    </tr>\n",
       "    <tr>\n",
       "      <th>2</th>\n",
       "      <td>Regosol dístrico - Afloramiento lítico</td>\n",
       "      <td>Nivel 2</td>\n",
       "    </tr>\n",
       "    <tr>\n",
       "      <th>3</th>\n",
       "      <td>Leptosol éutrico - Cambisol éutrico</td>\n",
       "      <td>Nivel 4</td>\n",
       "    </tr>\n",
       "    <tr>\n",
       "      <th>4</th>\n",
       "      <td>Fluvisol éutrico - Gleysol éutrico</td>\n",
       "      <td>Nivel 3</td>\n",
       "    </tr>\n",
       "  </tbody>\n",
       "</table>\n",
       "</div>"
      ],
      "text/plain": [
       "                                          DESCRIPCIO    NIVEL\n",
       "0  Leptosol éutrico - Regosol éutrico - Afloramie...  Nivel 1\n",
       "1  Leptosol éutrico - Kastanozem háplico - Aflora...  Nivel 1\n",
       "2             Regosol dístrico - Afloramiento lítico  Nivel 2\n",
       "3                Leptosol éutrico - Cambisol éutrico  Nivel 4\n",
       "4                 Fluvisol éutrico - Gleysol éutrico  Nivel 3"
      ]
     },
     "execution_count": 34,
     "metadata": {},
     "output_type": "execute_result"
    }
   ],
   "source": [
    "df1.head(5)"
   ]
  },
  {
   "cell_type": "code",
   "execution_count": null,
   "id": "07067e2d",
   "metadata": {},
   "outputs": [],
   "source": [
    "df[\"Nivel\"] = "
   ]
  },
  {
   "cell_type": "code",
   "execution_count": 41,
   "id": "90cea867",
   "metadata": {},
   "outputs": [],
   "source": [
    "# Realiza una fusión (merge) basada en la columna 'TipoSuelo'\n",
    "result = result.merge(df1, on='DESCRIPCIO', how='left')"
   ]
  },
  {
   "cell_type": "code",
   "execution_count": 42,
   "id": "f50e5307",
   "metadata": {},
   "outputs": [
    {
     "data": {
      "text/html": [
       "<div>\n",
       "<style scoped>\n",
       "    .dataframe tbody tr th:only-of-type {\n",
       "        vertical-align: middle;\n",
       "    }\n",
       "\n",
       "    .dataframe tbody tr th {\n",
       "        vertical-align: top;\n",
       "    }\n",
       "\n",
       "    .dataframe thead th {\n",
       "        text-align: right;\n",
       "    }\n",
       "</style>\n",
       "<table border=\"1\" class=\"dataframe\">\n",
       "  <thead>\n",
       "    <tr style=\"text-align: right;\">\n",
       "      <th></th>\n",
       "      <th>CAPITAL</th>\n",
       "      <th>NOMBDEP</th>\n",
       "      <th>NOMBPROV</th>\n",
       "      <th>NOMBDIST</th>\n",
       "      <th>UBIGEO</th>\n",
       "      <th>KM2</th>\n",
       "      <th>SIMSUE</th>\n",
       "      <th>DESCRIPCIO</th>\n",
       "      <th>PROPOR</th>\n",
       "      <th>PAISAJE</th>\n",
       "      <th>PENDIENTE</th>\n",
       "      <th>longitud</th>\n",
       "      <th>latitud</th>\n",
       "      <th>DPD</th>\n",
       "      <th>NIVEL</th>\n",
       "    </tr>\n",
       "  </thead>\n",
       "  <tbody>\n",
       "    <tr>\n",
       "      <th>0</th>\n",
       "      <td>ABANCAY</td>\n",
       "      <td>APURIMAC</td>\n",
       "      <td>ABANCAY</td>\n",
       "      <td>ABANCAY</td>\n",
       "      <td>30101</td>\n",
       "      <td>142.869853</td>\n",
       "      <td>LPe-RGe-R</td>\n",
       "      <td>Leptosol éutrico - Regosol éutrico - Afloramie...</td>\n",
       "      <td>40-30-30</td>\n",
       "      <td>Lomadas, colinas y montañas</td>\n",
       "      <td>8-25,  25 a +75</td>\n",
       "      <td>-72.925268</td>\n",
       "      <td>-13.627526</td>\n",
       "      <td>APURIMACABANCAYABANCAY2004</td>\n",
       "      <td>Nivel 1</td>\n",
       "    </tr>\n",
       "    <tr>\n",
       "      <th>1</th>\n",
       "      <td>ABANCAY</td>\n",
       "      <td>APURIMAC</td>\n",
       "      <td>ABANCAY</td>\n",
       "      <td>ABANCAY</td>\n",
       "      <td>30101</td>\n",
       "      <td>143.828013</td>\n",
       "      <td>LPe-KSh-R</td>\n",
       "      <td>Leptosol éutrico - Kastanozem háplico - Aflora...</td>\n",
       "      <td>40-30-30</td>\n",
       "      <td>Lomadas, colinas y montañas</td>\n",
       "      <td>8-25,  25 a +75</td>\n",
       "      <td>-72.818309</td>\n",
       "      <td>-13.644102</td>\n",
       "      <td>APURIMACABANCAYABANCAY2004</td>\n",
       "      <td>Nivel 1</td>\n",
       "    </tr>\n",
       "    <tr>\n",
       "      <th>2</th>\n",
       "      <td>CHACOCHE</td>\n",
       "      <td>APURIMAC</td>\n",
       "      <td>ABANCAY</td>\n",
       "      <td>CHACOCHE</td>\n",
       "      <td>30102</td>\n",
       "      <td>70.230736</td>\n",
       "      <td>LPe-RGe-R</td>\n",
       "      <td>Leptosol éutrico - Regosol éutrico - Afloramie...</td>\n",
       "      <td>40-30-30</td>\n",
       "      <td>Lomadas, colinas y montañas</td>\n",
       "      <td>8-25,  25 a +75</td>\n",
       "      <td>-72.997489</td>\n",
       "      <td>-13.946595</td>\n",
       "      <td>APURIMACABANCAYCHACOCHE2004</td>\n",
       "      <td>Nivel 1</td>\n",
       "    </tr>\n",
       "    <tr>\n",
       "      <th>3</th>\n",
       "      <td>CHACOCHE</td>\n",
       "      <td>APURIMAC</td>\n",
       "      <td>ABANCAY</td>\n",
       "      <td>CHACOCHE</td>\n",
       "      <td>30102</td>\n",
       "      <td>106.682227</td>\n",
       "      <td>LPe-KSh-R</td>\n",
       "      <td>Leptosol éutrico - Kastanozem háplico - Aflora...</td>\n",
       "      <td>40-30-30</td>\n",
       "      <td>Lomadas, colinas y montañas</td>\n",
       "      <td>8-25,  25 a +75</td>\n",
       "      <td>-72.987208</td>\n",
       "      <td>-14.030879</td>\n",
       "      <td>APURIMACABANCAYCHACOCHE2004</td>\n",
       "      <td>Nivel 1</td>\n",
       "    </tr>\n",
       "    <tr>\n",
       "      <th>4</th>\n",
       "      <td>CIRCA</td>\n",
       "      <td>APURIMAC</td>\n",
       "      <td>ABANCAY</td>\n",
       "      <td>CIRCA</td>\n",
       "      <td>30103</td>\n",
       "      <td>317.268493</td>\n",
       "      <td>LPe-RGe-R</td>\n",
       "      <td>Leptosol éutrico - Regosol éutrico - Afloramie...</td>\n",
       "      <td>40-30-30</td>\n",
       "      <td>Lomadas, colinas y montañas</td>\n",
       "      <td>8-25,  25 a +75</td>\n",
       "      <td>-72.904436</td>\n",
       "      <td>-13.898081</td>\n",
       "      <td>APURIMACABANCAYCIRCA2004</td>\n",
       "      <td>Nivel 1</td>\n",
       "    </tr>\n",
       "  </tbody>\n",
       "</table>\n",
       "</div>"
      ],
      "text/plain": [
       "    CAPITAL   NOMBDEP NOMBPROV  NOMBDIST  UBIGEO         KM2     SIMSUE  \\\n",
       "0   ABANCAY  APURIMAC  ABANCAY   ABANCAY   30101  142.869853  LPe-RGe-R   \n",
       "1   ABANCAY  APURIMAC  ABANCAY   ABANCAY   30101  143.828013  LPe-KSh-R   \n",
       "2  CHACOCHE  APURIMAC  ABANCAY  CHACOCHE   30102   70.230736  LPe-RGe-R   \n",
       "3  CHACOCHE  APURIMAC  ABANCAY  CHACOCHE   30102  106.682227  LPe-KSh-R   \n",
       "4     CIRCA  APURIMAC  ABANCAY     CIRCA   30103  317.268493  LPe-RGe-R   \n",
       "\n",
       "                                          DESCRIPCIO    PROPOR  \\\n",
       "0  Leptosol éutrico - Regosol éutrico - Afloramie...  40-30-30   \n",
       "1  Leptosol éutrico - Kastanozem háplico - Aflora...  40-30-30   \n",
       "2  Leptosol éutrico - Regosol éutrico - Afloramie...  40-30-30   \n",
       "3  Leptosol éutrico - Kastanozem háplico - Aflora...  40-30-30   \n",
       "4  Leptosol éutrico - Regosol éutrico - Afloramie...  40-30-30   \n",
       "\n",
       "                       PAISAJE        PENDIENTE   longitud    latitud  \\\n",
       "0  Lomadas, colinas y montañas  8-25,  25 a +75 -72.925268 -13.627526   \n",
       "1  Lomadas, colinas y montañas  8-25,  25 a +75 -72.818309 -13.644102   \n",
       "2  Lomadas, colinas y montañas  8-25,  25 a +75 -72.997489 -13.946595   \n",
       "3  Lomadas, colinas y montañas  8-25,  25 a +75 -72.987208 -14.030879   \n",
       "4  Lomadas, colinas y montañas  8-25,  25 a +75 -72.904436 -13.898081   \n",
       "\n",
       "                           DPD    NIVEL  \n",
       "0   APURIMACABANCAYABANCAY2004  Nivel 1  \n",
       "1   APURIMACABANCAYABANCAY2004  Nivel 1  \n",
       "2  APURIMACABANCAYCHACOCHE2004  Nivel 1  \n",
       "3  APURIMACABANCAYCHACOCHE2004  Nivel 1  \n",
       "4     APURIMACABANCAYCIRCA2004  Nivel 1  "
      ]
     },
     "execution_count": 42,
     "metadata": {},
     "output_type": "execute_result"
    }
   ],
   "source": [
    "result.head(5)"
   ]
  },
  {
   "cell_type": "code",
   "execution_count": 44,
   "id": "48fb01f8",
   "metadata": {},
   "outputs": [],
   "source": [
    "result.to_csv('Suelos_total.csv', index=False)"
   ]
  },
  {
   "cell_type": "markdown",
   "id": "88a20bc8",
   "metadata": {},
   "source": [
    "# Visualizaciones"
   ]
  },
  {
   "cell_type": "code",
   "execution_count": 45,
   "id": "88a2e7d6",
   "metadata": {},
   "outputs": [
    {
     "name": "stdout",
     "output_type": "stream",
     "text": [
      "Nivel 2    665\n",
      "Nivel 1    597\n",
      "Nivel 4    527\n",
      "Nivel 3    259\n",
      "Name: NIVEL, dtype: int64\n"
     ]
    }
   ],
   "source": [
    "# Usamos value_counts() para contar la cantidad de registros por nivel de vulnerabilidad\n",
    "conteo_vulnerabilidad = df[\"NIVEL\"].value_counts()\n",
    "\n",
    "# Imprimimos el resultado\n",
    "print(conteo_vulnerabilidad)"
   ]
  },
  {
   "cell_type": "code",
   "execution_count": 53,
   "id": "3a65817f",
   "metadata": {},
   "outputs": [
    {
     "name": "stdout",
     "output_type": "stream",
     "text": [
      "Nombres de departamentos con nivel 1: ['APURIMAC', 'HUANCAVELICA', 'CUSCO', 'AREQUIPA', 'PUNO', 'JUNIN', 'TUMBES', 'MOQUEGUA', 'AYACUCHO', 'MADRE DE DIOS']\n"
     ]
    }
   ],
   "source": [
    "# Filtramos los departamentos con nivel 1\n",
    "departamentos_nivel_1 = df[df[\"NIVEL\"] == 'Nivel 1']\n",
    "\n",
    "# Extraemos los nombres de los departamentos del nuevo DataFrame\n",
    "nombres_departamentos_nivel_1 = departamentos_nivel_1[\"NOMBDEP\"].unique().tolist()\n",
    "\n",
    "# Imprimimos los nombres de los departamentos\n",
    "print(\"Nombres de departamentos con nivel 1:\", nombres_departamentos_nivel_1)"
   ]
  },
  {
   "cell_type": "code",
   "execution_count": null,
   "id": "a5f05596",
   "metadata": {},
   "outputs": [],
   "source": [
    "df_ev = df[df[\"NIVEL\"] == 'Nivel 1']"
   ]
  },
  {
   "cell_type": "markdown",
   "id": "ab1e872c",
   "metadata": {},
   "source": [
    "Elimininaremos la columna nivel, porque a primera vista no tiene muchos sentido la jerarquia de vulnerabilidad que le brinda"
   ]
  },
  {
   "cell_type": "code",
   "execution_count": 55,
   "id": "11468da3",
   "metadata": {},
   "outputs": [
    {
     "data": {
      "text/html": [
       "<div>\n",
       "<style scoped>\n",
       "    .dataframe tbody tr th:only-of-type {\n",
       "        vertical-align: middle;\n",
       "    }\n",
       "\n",
       "    .dataframe tbody tr th {\n",
       "        vertical-align: top;\n",
       "    }\n",
       "\n",
       "    .dataframe thead th {\n",
       "        text-align: right;\n",
       "    }\n",
       "</style>\n",
       "<table border=\"1\" class=\"dataframe\">\n",
       "  <thead>\n",
       "    <tr style=\"text-align: right;\">\n",
       "      <th></th>\n",
       "      <th>CAPITAL</th>\n",
       "      <th>NOMBDEP</th>\n",
       "      <th>NOMBPROV</th>\n",
       "      <th>NOMBDIST</th>\n",
       "      <th>UBIGEO</th>\n",
       "      <th>KM2</th>\n",
       "      <th>SIMSUE</th>\n",
       "      <th>DESCRIPCIO</th>\n",
       "      <th>PROPOR</th>\n",
       "      <th>PAISAJE</th>\n",
       "      <th>PENDIENTE</th>\n",
       "      <th>longitud</th>\n",
       "      <th>latitud</th>\n",
       "    </tr>\n",
       "  </thead>\n",
       "  <tbody>\n",
       "    <tr>\n",
       "      <th>0</th>\n",
       "      <td>ABANCAY</td>\n",
       "      <td>APURIMAC</td>\n",
       "      <td>ABANCAY</td>\n",
       "      <td>ABANCAY</td>\n",
       "      <td>30101</td>\n",
       "      <td>142.869853</td>\n",
       "      <td>LPe-RGe-R</td>\n",
       "      <td>Leptosol éutrico - Regosol éutrico - Afloramie...</td>\n",
       "      <td>40-30-30</td>\n",
       "      <td>Lomadas, colinas y montañas</td>\n",
       "      <td>8-25,  25 a +75</td>\n",
       "      <td>-72.925268</td>\n",
       "      <td>-13.627526</td>\n",
       "    </tr>\n",
       "    <tr>\n",
       "      <th>1</th>\n",
       "      <td>ABANCAY</td>\n",
       "      <td>APURIMAC</td>\n",
       "      <td>ABANCAY</td>\n",
       "      <td>ABANCAY</td>\n",
       "      <td>30101</td>\n",
       "      <td>143.828013</td>\n",
       "      <td>LPe-KSh-R</td>\n",
       "      <td>Leptosol éutrico - Kastanozem háplico - Aflora...</td>\n",
       "      <td>40-30-30</td>\n",
       "      <td>Lomadas, colinas y montañas</td>\n",
       "      <td>8-25,  25 a +75</td>\n",
       "      <td>-72.818309</td>\n",
       "      <td>-13.644102</td>\n",
       "    </tr>\n",
       "    <tr>\n",
       "      <th>2</th>\n",
       "      <td>CHACOCHE</td>\n",
       "      <td>APURIMAC</td>\n",
       "      <td>ABANCAY</td>\n",
       "      <td>CHACOCHE</td>\n",
       "      <td>30102</td>\n",
       "      <td>70.230736</td>\n",
       "      <td>LPe-RGe-R</td>\n",
       "      <td>Leptosol éutrico - Regosol éutrico - Afloramie...</td>\n",
       "      <td>40-30-30</td>\n",
       "      <td>Lomadas, colinas y montañas</td>\n",
       "      <td>8-25,  25 a +75</td>\n",
       "      <td>-72.997489</td>\n",
       "      <td>-13.946595</td>\n",
       "    </tr>\n",
       "    <tr>\n",
       "      <th>3</th>\n",
       "      <td>CHACOCHE</td>\n",
       "      <td>APURIMAC</td>\n",
       "      <td>ABANCAY</td>\n",
       "      <td>CHACOCHE</td>\n",
       "      <td>30102</td>\n",
       "      <td>106.682227</td>\n",
       "      <td>LPe-KSh-R</td>\n",
       "      <td>Leptosol éutrico - Kastanozem háplico - Aflora...</td>\n",
       "      <td>40-30-30</td>\n",
       "      <td>Lomadas, colinas y montañas</td>\n",
       "      <td>8-25,  25 a +75</td>\n",
       "      <td>-72.987208</td>\n",
       "      <td>-14.030879</td>\n",
       "    </tr>\n",
       "    <tr>\n",
       "      <th>4</th>\n",
       "      <td>CIRCA</td>\n",
       "      <td>APURIMAC</td>\n",
       "      <td>ABANCAY</td>\n",
       "      <td>CIRCA</td>\n",
       "      <td>30103</td>\n",
       "      <td>317.268493</td>\n",
       "      <td>LPe-RGe-R</td>\n",
       "      <td>Leptosol éutrico - Regosol éutrico - Afloramie...</td>\n",
       "      <td>40-30-30</td>\n",
       "      <td>Lomadas, colinas y montañas</td>\n",
       "      <td>8-25,  25 a +75</td>\n",
       "      <td>-72.904436</td>\n",
       "      <td>-13.898081</td>\n",
       "    </tr>\n",
       "  </tbody>\n",
       "</table>\n",
       "</div>"
      ],
      "text/plain": [
       "    CAPITAL   NOMBDEP NOMBPROV  NOMBDIST  UBIGEO         KM2     SIMSUE  \\\n",
       "0   ABANCAY  APURIMAC  ABANCAY   ABANCAY   30101  142.869853  LPe-RGe-R   \n",
       "1   ABANCAY  APURIMAC  ABANCAY   ABANCAY   30101  143.828013  LPe-KSh-R   \n",
       "2  CHACOCHE  APURIMAC  ABANCAY  CHACOCHE   30102   70.230736  LPe-RGe-R   \n",
       "3  CHACOCHE  APURIMAC  ABANCAY  CHACOCHE   30102  106.682227  LPe-KSh-R   \n",
       "4     CIRCA  APURIMAC  ABANCAY     CIRCA   30103  317.268493  LPe-RGe-R   \n",
       "\n",
       "                                          DESCRIPCIO    PROPOR  \\\n",
       "0  Leptosol éutrico - Regosol éutrico - Afloramie...  40-30-30   \n",
       "1  Leptosol éutrico - Kastanozem háplico - Aflora...  40-30-30   \n",
       "2  Leptosol éutrico - Regosol éutrico - Afloramie...  40-30-30   \n",
       "3  Leptosol éutrico - Kastanozem háplico - Aflora...  40-30-30   \n",
       "4  Leptosol éutrico - Regosol éutrico - Afloramie...  40-30-30   \n",
       "\n",
       "                       PAISAJE        PENDIENTE   longitud    latitud  \n",
       "0  Lomadas, colinas y montañas  8-25,  25 a +75 -72.925268 -13.627526  \n",
       "1  Lomadas, colinas y montañas  8-25,  25 a +75 -72.818309 -13.644102  \n",
       "2  Lomadas, colinas y montañas  8-25,  25 a +75 -72.997489 -13.946595  \n",
       "3  Lomadas, colinas y montañas  8-25,  25 a +75 -72.987208 -14.030879  \n",
       "4  Lomadas, colinas y montañas  8-25,  25 a +75 -72.904436 -13.898081  "
      ]
     },
     "execution_count": 55,
     "metadata": {},
     "output_type": "execute_result"
    }
   ],
   "source": [
    "df.head(5)"
   ]
  },
  {
   "cell_type": "code",
   "execution_count": 59,
   "id": "ee14f36f",
   "metadata": {},
   "outputs": [
    {
     "name": "stdout",
     "output_type": "stream",
     "text": [
      "Leptosol éutrico - Regosol éutrico - Afloramiento lítico    322\n",
      "Regosol éutrico - Cambisol éutrico                          306\n",
      "Regosol dístrico - Afloramiento lítico                      254\n",
      "Fluvisol éutrico - Regosol éutrico                          196\n",
      "Leptosol éutrico - Cambisol éutrico                         173\n",
      "Name: DESCRIPCIO, dtype: int64\n"
     ]
    }
   ],
   "source": [
    "# Usamos value_counts() para contar la cantidad de registros por nivel de vulnerabilidad\n",
    "conteo_tipo = df[\"DESCRIPCIO\"].value_counts()\n",
    "\n",
    "# Obtenemos los 5 primeros datos\n",
    "primeros_5_tipos = conteo_tipo.head(5)\n",
    "\n",
    "# Imprimimos el resultado\n",
    "print(primeros_5_tipos)"
   ]
  },
  {
   "cell_type": "code",
   "execution_count": 63,
   "id": "32c5c743",
   "metadata": {},
   "outputs": [
    {
     "data": {
      "text/plain": [
       "Leptosol éutrico - Regosol éutrico - Afloramiento lítico    322\n",
       "Regosol éutrico - Cambisol éutrico                          306\n",
       "Regosol dístrico - Afloramiento lítico                      254\n",
       "Fluvisol éutrico - Regosol éutrico                          196\n",
       "Leptosol éutrico - Cambisol éutrico                         173\n",
       "Name: DESCRIPCIO, dtype: int64"
      ]
     },
     "execution_count": 63,
     "metadata": {},
     "output_type": "execute_result"
    }
   ],
   "source": [
    "conteo_tipo.head(5)"
   ]
  },
  {
   "cell_type": "code",
   "execution_count": 65,
   "id": "7624961c",
   "metadata": {},
   "outputs": [],
   "source": [
    "import pandas as pd\n",
    "import matplotlib.pyplot as plt"
   ]
  },
  {
   "cell_type": "markdown",
   "id": "3e13a889",
   "metadata": {},
   "source": [
    "# Popularidad de los suelos por distrito"
   ]
  },
  {
   "cell_type": "code",
   "execution_count": 73,
   "id": "c405692f",
   "metadata": {},
   "outputs": [
    {
     "data": {
      "image/png": "[encoded data removed]",
      "text/plain": [
       "<Figure size 1000x600 with 1 Axes>"
      ]
     },
     "metadata": {},
     "output_type": "display_data"
    }
   ],
   "source": [
    "# Usamos value_counts() para contar la cantidad de registros por nivel de vulnerabilidad\n",
    "conteo_tipo = df[\"DESCRIPCIO\"].value_counts()\n",
    "\n",
    "# Obtenemos los 5 primeros datos\n",
    "primeros_5_tipos = conteo_tipo.head(5)\n",
    "\n",
    "# Creamos un gráfico de barras\n",
    "plt.figure(figsize=(10, 6))\n",
    "primeros_5_tipos.plot(kind=\"barh\", color=\"skyblue\")\n",
    "plt.title(\"Top 5 Tipos de descripcion con más distritos\")\n",
    "plt.xlabel(\"Cantidad de distritos\")\n",
    "plt.ylabel(\"Top 5 suelos\")\n",
    "plt.xticks(rotation=45)\n",
    "\n",
    "# Mostramos el gráfico\n",
    "plt.show()"
   ]
  },
  {
   "cell_type": "markdown",
   "id": "0e1bf6ba",
   "metadata": {},
   "source": [
    "Leptosol éutrico: Los Leptosoles son un tipo de suelo poco desarrollado que a menudo se encuentra en regiones montañosas. \"Éutrico\" se refiere a que este suelo tiene buenas propiedades nutricionales, lo que significa que es rico en nutrientes.\n",
    "\n",
    "Regosol éutrico: Los Regosoles son otro tipo de suelo poco desarrollado que a menudo se encuentra en áreas con procesos de erosión y sedimentación activos. Al igual que el Leptosol, \"éutrico\" indica que este suelo tiene buenas propiedades nutricionales.\n",
    "\n",
    "Afloramiento lítico: Esto significa que hay rocas expuestas en la superficie del suelo. Los afloramientos líticos pueden influir en la capacidad del suelo para retener agua y nutrientes.\n",
    "\n",
    "La combinacion de \"Leptosol éutrico - Regosol éutrico - Afloramiento lítico\" se refiere a un tipo de suelo con buenas propiedades nutricionales que también tiene rocas expuestas en la superficie. Estas descripciones son utilizadas por los científicos del suelo y los geólogos para comprender y categorizar los diferentes tipos de suelos que se encuentran en diversas ubicaciones geográficas."
   ]
  },
  {
   "cell_type": "code",
   "execution_count": 75,
   "id": "f639052a",
   "metadata": {},
   "outputs": [
    {
     "name": "stdout",
     "output_type": "stream",
     "text": [
      "DESCRIPCIO\n",
      "Fluvisol éutrico - Gleysol éutrico                             69402.158395\n",
      "Leptosol éutrico - Regosol éutrico - Afloramiento lítico       58762.017939\n",
      "Regosol éutrico - Cambisol éutrico                             46086.405397\n",
      "Leptosol dístrico - Regosol dístrico - Afloramiento lítico     44197.434065\n",
      "Regosol dístrico - Afloramiento lítico                         30399.691436\n",
      "Leptosol dístrico - Andosol úmbrico - Afloramiento lítico      27622.141698\n",
      "Regosol dístrico - Cambisol dístrico                           18640.508933\n",
      "Leptosol éutrico - Kastanozem háplico - Afloramiento lítico    17859.791583\n",
      "Gleysol dístrico - Lixisol háplico - Fluvisol dístrico         14972.131734\n",
      "Leptosol éutrico - Cambisol éutrico                            12953.242408\n",
      "Regosol éutrico - Calcisol háplico                             10660.091313\n",
      "Cambisol dístrico - Nitisol háplico                             9992.675339\n",
      "Fluvisol éutrico - Regosol éutrico                              9484.108638\n",
      "Cambisol éutrico - Vertisol éutrico                             9435.288503\n",
      "Cambisol éutrico - Phaeozem háplico                             9343.718185\n",
      "Regosol éutrico - Andosol móllico                               4991.075394\n",
      "Lixisol háplico - Gleysol dístrico                              4516.543870\n",
      "Name: KM2, dtype: float64\n"
     ]
    }
   ],
   "source": [
    "# Supongamos que tienes un DataFrame llamado df con las columnas \"Tipo de Suelo\" y \"KM2\"\n",
    "# Agrupa por \"Tipo de Suelo\" y suma los KM2 en cada grupo\n",
    "resultados = df.groupby(\"DESCRIPCIO\")[\"KM2\"].sum()\n",
    "\n",
    "# Ordena los resultados de mayor a menor\n",
    "resultados_ordenados = resultados.sort_values(ascending=False)\n",
    "\n",
    "# Imprime los resultados ordenados\n",
    "print(resultados_ordenados)"
   ]
  },
  {
   "cell_type": "markdown",
   "id": "8e799be0",
   "metadata": {},
   "source": [
    "# KM2 vs. Tipo de Suelo"
   ]
  },
  {
   "cell_type": "code",
   "execution_count": 76,
   "id": "cf252717",
   "metadata": {},
   "outputs": [
    {
     "data": {
      "image/png": "[encoded data removed]",
      "text/plain": [
       "<Figure size 800x800 with 1 Axes>"
      ]
     },
     "metadata": {},
     "output_type": "display_data"
    },
    {
     "data": {
      "image/png": "[encoded data removed]",
      "text/plain": [
       "<Figure size 800x800 with 1 Axes>"
      ]
     },
     "metadata": {},
     "output_type": "display_data"
    }
   ],
   "source": [
    "# Selecciona los cinco tipos de suelo más grandes y los cinco más pequeños\n",
    "top5 = resultados_ordenados.head(5)\n",
    "bottom5 = resultados_ordenados.tail(5)\n",
    "\n",
    "# Crea un gráfico circular para los cinco tipos de suelo más grandes\n",
    "plt.figure(figsize=(8, 8))\n",
    "plt.pie(top5, labels=top5.index, autopct='%1.1f%%')\n",
    "plt.title('Top 5 Tipos de Suelo con Mayor KM2')\n",
    "plt.axis('equal')  # Hace que el gráfico sea un círculo\n",
    "\n",
    "# Muestra el gráfico\n",
    "plt.show()\n",
    "\n",
    "# Crea un gráfico circular para los cinco tipos de suelo más pequeños\n",
    "plt.figure(figsize=(8, 8))\n",
    "plt.pie(bottom5, labels=bottom5.index, autopct='%1.1f%%')\n",
    "plt.title('Top 5 Tipos de Suelo con Menor KM2')\n",
    "plt.axis('equal')  # Hace que el gráfico sea un círculo\n",
    "\n",
    "# Muestra el gráfico\n",
    "plt.show()"
   ]
  },
  {
   "cell_type": "markdown",
   "id": "1b5f98d3",
   "metadata": {},
   "source": [
    "## El tipo de suelo de mayor dimension"
   ]
  },
  {
   "cell_type": "markdown",
   "id": "406c9ae4",
   "metadata": {},
   "source": [
    "El \"Fluvisol éutrico - Gleysol éutrico\" es un tipo de suelo que combina características de dos tipos de suelos, el Fluvisol éutrico y el Gleysol éutrico. A continuación, te proporcionaré una breve descripción de ambos tipos de suelos:\n",
    "\n",
    "Fluvisol éutrico: Los Fluvisoles son suelos que se forman en áreas de inundación o cerca de ríos y arroyos. Son suelos fluviales y, por lo tanto, suelen contener sedimentos depositados por el agua, lo que les otorga buenas propiedades nutricionales. El término \"éutrico\" se refiere a su alto contenido de nutrientes y materia orgánica.\n",
    "\n",
    "Gleysol éutrico: Los Gleysoles son suelos que se caracterizan por tener un drenaje deficiente debido a la saturación del agua. El término \"éutrico\" en este contexto significa que también son suelos con buen contenido de nutrientes y materia orgánica. Los Gleysoles suelen ser ricos en hierro y aluminio y a menudo muestran manchas de color debido a la acumulación de minerales."
   ]
  },
  {
   "cell_type": "markdown",
   "id": "79fc8399",
   "metadata": {},
   "source": [
    "Importante: Este tipo de suelo probablemente se encuentra en áreas con antecedentes de inundaciones o un alto contenido de agua estancada, lo que puede influir en su capacidad para resistir sismos."
   ]
  },
  {
   "cell_type": "markdown",
   "id": "f0bc1881",
   "metadata": {},
   "source": [
    "## El mayor de los 5 de menor dimension"
   ]
  },
  {
   "cell_type": "markdown",
   "id": "95f67c6d",
   "metadata": {},
   "source": [
    "El \"Fluvisol éutrico - Regosol éutrico\" es una combinación de dos tipos de suelos: el Fluvisol éutrico y el Regosol éutrico. Aquí hay una descripción breve de ambos tipos de suelos:\n",
    "\n",
    "Fluvisol éutrico: Los Fluvisoles son suelos fluviales que se forman en áreas inundadas o cercanas a ríos y arroyos. Estos suelos suelen contener sedimentos transportados y depositados por el agua, lo que puede hacer que sean ricos en nutrientes y materia orgánica. El término \"éutrico\" se refiere a su buen contenido de nutrientes.\n",
    "\n",
    "Regosol éutrico: Los Regosoles son suelos jóvenes y poco desarrollados que se caracterizan por una falta de horizontes bien definidos. El término \"éutrico\" en este contexto indica que estos suelos también tienen un buen contenido de nutrientes y materia orgánica.\n",
    "\n",
    "La combinación de \"Fluvisol éutrico - Regosol éutrico\" sugiere un suelo que se forma en áreas con historial de inundaciones o cerca de fuentes de agua, y que es rico en nutrientes y materia orgánica. Estos suelos pueden tener propiedades beneficiosas para la agricultura y pueden ser útiles en la retención de nutrientes, pero su resistencia sísmica dependerá de otros factores geotécnicos y geológicos específicos de la ubicación."
   ]
  },
  {
   "cell_type": "markdown",
   "id": "d745994a",
   "metadata": {},
   "source": [
    "https://www.eweb.unex.es/eweb/edafo/FAO/Fluvisol.htm\n",
    "https://www.eweb.unex.es/eweb/edafo/FAO/Regosol.htm\n",
    "https://www.eweb.unex.es/eweb/edafo/FAO/Leptosol.htm\n",
    "https://www.eweb.unex.es/eweb/edafo/FAO/Gleysol.htm\n",
    "https://www.eweb.unex.es/eweb/edafo/FAO/Lixisol.htm"
   ]
  },
  {
   "cell_type": "code",
   "execution_count": 71,
   "id": "18a7a181",
   "metadata": {},
   "outputs": [
    {
     "name": "stdout",
     "output_type": "stream",
     "text": [
      "['APURIMAC' 'CUSCO' 'PUNO' 'HUANCAVELICA' 'AYACUCHO' 'TUMBES']\n"
     ]
    }
   ],
   "source": [
    "# Filtra el DataFrame \n",
    "df_filtrado = df[df[\"DESCRIPCIO\"] == \"Leptosol éutrico - Regosol éutrico - Afloramiento lítico\"]\n",
    "\n",
    "# Utiliza drop_duplicates para obtener las filas únicas basadas en la columna \"nombre del distrito\"\n",
    "distritos_repetidos = df_filtrado[df_filtrado.duplicated(subset=[\"NOMBDEP\"])]\n",
    "\n",
    "# Luego, obtén los nombres únicos de distritos de esas filas\n",
    "nombres_distritos_repetidos = distritos_repetidos[\"NOMBDEP\"].unique()\n",
    "\n",
    "# Imprime los nombres de distritos únicos que se repiten por el tipo de suelo \"Tipo 1\"\n",
    "print(nombres_distritos_repetidos)"
   ]
  },
  {
   "cell_type": "code",
   "execution_count": 72,
   "id": "4760c8a4",
   "metadata": {},
   "outputs": [
    {
     "name": "stdout",
     "output_type": "stream",
     "text": [
      "['LA LIBERTAD' 'ANCASH' 'PUNO' 'AMAZONAS' 'CAJAMARCA' 'CUSCO' 'SAN MARTIN'\n",
      " 'PIURA' 'AYACUCHO']\n"
     ]
    }
   ],
   "source": [
    "\n",
    "\n",
    "# Filtra el DataFrame para obtener solo las filas con \"descripcion\" igual a \"Regosol éutrico - Cambisol éutrico\"\n",
    "df_filtrado = df[df[\"DESCRIPCIO\"] == \"Regosol éutrico - Cambisol éutrico\"]\n",
    "\n",
    "# Utiliza drop_duplicates para obtener las filas únicas basadas en la columna \"nombre del deparramento\"\n",
    "distritos_repetidos = df_filtrado[df_filtrado.duplicated(subset=[\"NOMBDEP\"])]\n",
    "\n",
    "# Luego, obtén los nombres únicos de distritos de esas filas\n",
    "nombres_distritos_repetidos = distritos_repetidos[\"NOMBDEP\"].unique()\n",
    "\n",
    "# Imprime los nombres de distritos únicos que se repiten por el tipo de suelo \"Tipo 1\"\n",
    "print(nombres_distritos_repetidos)"
   ]
  },
  {
   "cell_type": "code",
   "execution_count": 80,
   "id": "ad0c444d",
   "metadata": {},
   "outputs": [
    {
     "data": {
      "text/plain": [
       "CAPITAL       0\n",
       "NOMBDEP       0\n",
       "NOMBPROV      0\n",
       "NOMBDIST      0\n",
       "UBIGEO        0\n",
       "KM2           0\n",
       "SIMSUE        0\n",
       "DESCRIPCIO    0\n",
       "PROPOR        0\n",
       "PAISAJE       0\n",
       "PENDIENTE     0\n",
       "longitud      0\n",
       "latitud       0\n",
       "dtype: int64"
      ]
     },
     "execution_count": 80,
     "metadata": {},
     "output_type": "execute_result"
    }
   ],
   "source": [
    "df.isnull().sum()"
   ]
  },
  {
   "cell_type": "code",
   "execution_count": 78,
   "id": "0fdee824",
   "metadata": {},
   "outputs": [
    {
     "data": {
      "image/png": "[encoded data removed]",
      "text/plain": [
       "<Figure size 800x800 with 1 Axes>"
      ]
     },
     "metadata": {},
     "output_type": "display_data"
    },
    {
     "data": {
      "image/png": "[encoded data removed]",
      "text/plain": [
       "<Figure size 800x800 with 1 Axes>"
      ]
     },
     "metadata": {},
     "output_type": "display_data"
    }
   ],
   "source": [
    "# Selecciona los cinco tipos de suelo más grandes y los cinco más pequeños\n",
    "top5 = resultados_ordenados.head(5)\n",
    "bottom5 = resultados_ordenados.tail(5)\n",
    "\n",
    "# Crea un gráfico circular para los cinco tipos de suelo más grandes\n",
    "plt.figure(figsize=(8, 8))\n",
    "_, _, autotexts = plt.pie(top5, autopct='%1.1f%%')\n",
    "plt.title('Top 5 Tipos de Suelo con Mayor KM2')\n",
    "plt.axis('equal')  # Hace que el gráfico sea un círculo\n",
    "\n",
    "# Agrega una leyenda\n",
    "plt.legend(top5.index, loc=\"center left\", bbox_to_anchor=(1, 0.5))\n",
    "\n",
    "# Modifica el formato de las leyendas\n",
    "for autotext in autotexts:\n",
    "    autotext.set_fontsize(12)\n",
    "    \n",
    "# Muestra el gráfico\n",
    "plt.show()\n",
    "\n",
    "# Crea un gráfico circular para los cinco tipos de suelo más pequeños\n",
    "plt.figure(figsize=(8, 8))\n",
    "_, _, autotexts = plt.pie(bottom5, autopct='%1.1f%%')\n",
    "plt.title('Top 5 Tipos de Suelo con Menor KM2')\n",
    "plt.axis('equal')  # Hace que el gráfico sea un círculo\n",
    "\n",
    "# Agrega una leyenda\n",
    "plt.legend(bottom5.index, loc=\"center left\", bbox_to_anchor=(1, 0.5))\n",
    "\n",
    "# Modifica el formato de las leyendas\n",
    "for autotext in autotexts:\n",
    "    autotext.set_fontsize(12)\n",
    "\n",
    "# Muestra el gráfico\n",
    "plt.show()"
   ]
  }
 ],
 "metadata": {
  "kernelspec": {
   "display_name": "Python 3 (ipykernel)",
   "language": "python",
   "name": "python3"
  },
  "language_info": {
   "codemirror_mode": {
    "name": "ipython",
    "version": 3
   },
   "file_extension": ".py",
   "mimetype": "text/x-python",
   "name": "python",
   "nbconvert_exporter": "python",
   "pygments_lexer": "ipython3",
   "version": "3.11.4"
  }
 },
 "nbformat": 4,
 "nbformat_minor": 5
}
